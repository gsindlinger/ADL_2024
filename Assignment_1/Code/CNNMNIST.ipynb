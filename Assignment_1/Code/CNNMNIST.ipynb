{
 "cells": [
  {
   "cell_type": "code",
   "execution_count": 2,
   "id": "initial_id",
   "metadata": {
    "collapsed": true,
    "ExecuteTime": {
     "end_time": "2024-04-26T15:36:15.575953Z",
     "start_time": "2024-04-26T15:36:15.569963Z"
    }
   },
   "outputs": [],
   "source": [
    "try:\n",
    "  import google.colab\n",
    "  IN_COLAB = True\n",
    "except:\n",
    "  IN_COLAB = False\n",
    "if IN_COLAB:\n",
    "    !pip3 install torch matplotlib torchmetrics scikit-image segmentation-models-pytorch"
   ]
  },
  {
   "cell_type": "markdown",
   "source": [
    "# Imports"
   ],
   "metadata": {
    "collapsed": false
   },
   "id": "78536246b662c627"
  },
  {
   "cell_type": "code",
   "outputs": [],
   "source": [
    "import torch\n",
    "import torch.nn as nn\n",
    "import torch.optim as optim\n",
    "import torch.utils.data as dset\n",
    "from torchvision import datasets, transforms"
   ],
   "metadata": {
    "collapsed": false,
    "ExecuteTime": {
     "end_time": "2024-04-26T15:36:58.146972Z",
     "start_time": "2024-04-26T15:36:56.560579Z"
    }
   },
   "id": "97a422cddc585824",
   "execution_count": 3
  },
  {
   "cell_type": "markdown",
   "source": [
    "# Set global device"
   ],
   "metadata": {
    "collapsed": false
   },
   "id": "a642121116dd971c"
  },
  {
   "cell_type": "code",
   "outputs": [
    {
     "name": "stdout",
     "output_type": "stream",
     "text": [
      "GPU State: mps\n"
     ]
    }
   ],
   "source": [
    "# GPU\n",
    "device = 'cuda:0' if torch.cuda.is_available() else ('mps' if torch.backends.mps.is_available() else 'cpu')\n",
    "print('GPU State:', device)"
   ],
   "metadata": {
    "collapsed": false,
    "ExecuteTime": {
     "end_time": "2024-04-26T15:42:12.066964Z",
     "start_time": "2024-04-26T15:42:12.063564Z"
    }
   },
   "id": "293194ab7f35e714",
   "execution_count": 7
  },
  {
   "cell_type": "markdown",
   "source": [
    "# Functions"
   ],
   "metadata": {
    "collapsed": false
   },
   "id": "4dff89a879a10f3a"
  },
  {
   "cell_type": "code",
   "outputs": [],
   "source": [
    "def training_loop(model, loss, optimizer, loader, epochs, verbose=True, device=device):\n",
    "    \"\"\"\n",
    "    Run training of a model given a loss function, optimizer and a set of training and validation data.\n",
    "    \"\"\"\n",
    "\n",
    "    # Train\n",
    "    for epoch in range(epochs):\n",
    "        running_loss = 0.0\n",
    "\n",
    "        for times, data in enumerate(loader):\n",
    "            inputs, labels = data[0].to(device), data[1].to(device)\n",
    "\n",
    "            # Zero the parameter gradients\n",
    "            optimizer.zero_grad()\n",
    "\n",
    "            # Forward + backward + optimize\n",
    "            outputs = model(inputs)\n",
    "            loss_tensor = loss(outputs, labels)\n",
    "            loss_tensor.backward()\n",
    "            optimizer.step()\n",
    "\n",
    "            # Print statistics\n",
    "            running_loss += loss_tensor.item()\n",
    "            if verbose:\n",
    "                if times % 100 == 99 or times+1 == len(loader):\n",
    "                    print('[%d/%d, %d/%d] loss: %.3f' % (epoch+1, epochs, times+1, len(loader), running_loss/2000))"
   ],
   "metadata": {
    "collapsed": false,
    "ExecuteTime": {
     "end_time": "2024-04-26T16:05:55.011708Z",
     "start_time": "2024-04-26T16:05:54.989833Z"
    }
   },
   "id": "9f19893df629058f",
   "execution_count": 25
  },
  {
   "cell_type": "code",
   "outputs": [],
   "source": [
    "def evaluate_model(model, loader, device=device):\n",
    "    \"\"\"\n",
    "    Evaluate a model 'model' on all batches of a torch DataLoader 'data_loader'.\n",
    "\n",
    "    Returns: the total number of correct classifications,\n",
    "             the total number of images\n",
    "             the list of the per class correct classification,\n",
    "             the list of the per class total number of images.\n",
    "    \"\"\"\n",
    "\n",
    "    # Test\n",
    "    correct = 0\n",
    "    total = 0\n",
    "\n",
    "    with torch.no_grad():\n",
    "        for data in loader:\n",
    "            inputs, labels = data\n",
    "            inputs, labels = inputs.to(device), labels.to(device)\n",
    "\n",
    "            outputs = model(inputs)\n",
    "            _, predicted = torch.max(outputs.data, 1)\n",
    "            total += labels.size(0)\n",
    "            correct += (predicted == labels).sum().item()\n",
    "\n",
    "    class_correct = [0 for i in range(10)]\n",
    "    class_total = [0 for i in range(10)]\n",
    "\n",
    "    with torch.no_grad():\n",
    "        for data in loader:\n",
    "            inputs, labels = data[0].to(device), data[1].to(device)\n",
    "\n",
    "            outputs = model(inputs)\n",
    "            _, predicted = torch.max(outputs, 1)\n",
    "            c = (predicted == labels).squeeze()\n",
    "            for i in range(10):\n",
    "                label = labels[i]\n",
    "                class_correct[label] += c[i].item()\n",
    "                class_total[label] += 1\n",
    "\n",
    "    return (correct, total, class_correct, class_total)"
   ],
   "metadata": {
    "collapsed": false,
    "ExecuteTime": {
     "end_time": "2024-04-26T16:07:10.187688Z",
     "start_time": "2024-04-26T16:07:10.180168Z"
    }
   },
   "id": "c062566b32fd8d38",
   "execution_count": 28
  },
  {
   "cell_type": "markdown",
   "source": [
    "# Main program"
   ],
   "metadata": {
    "collapsed": false
   },
   "id": "5e5a1afb18e68d99"
  },
  {
   "cell_type": "code",
   "outputs": [],
   "source": [
    "# Transform\n",
    "transform = transforms.Compose(\n",
    "    [transforms.ToTensor(),\n",
    "     transforms.Normalize((0.5,), (0.5,)),]\n",
    ")"
   ],
   "metadata": {
    "collapsed": false,
    "ExecuteTime": {
     "end_time": "2024-04-26T15:50:18.615065Z",
     "start_time": "2024-04-26T15:50:18.610715Z"
    }
   },
   "id": "e3b1912b9c632442",
   "execution_count": 16
  },
  {
   "cell_type": "code",
   "outputs": [],
   "source": [
    "# Data\n",
    "trainSet = datasets.MNIST(root='MNIST', download=True, train=True, transform=transform)\n",
    "testSet = datasets.MNIST(root='MNIST', download=True, train=False, transform=transform)\n",
    "trainLoader = dset.DataLoader(trainSet, batch_size=64, shuffle=True)\n",
    "testLoader = dset.DataLoader(testSet, batch_size=64, shuffle=False)"
   ],
   "metadata": {
    "collapsed": false,
    "ExecuteTime": {
     "end_time": "2024-04-26T15:50:19.663678Z",
     "start_time": "2024-04-26T15:50:19.611178Z"
    }
   },
   "id": "ef03f69b6943f9a5",
   "execution_count": 17
  },
  {
   "cell_type": "code",
   "outputs": [
    {
     "name": "stdout",
     "output_type": "stream",
     "text": [
      "Net(\n",
      "  (main): Sequential(\n",
      "    (0): Conv2d(1, 16, kernel_size=(3, 3), stride=(1, 1))\n",
      "    (1): ReLU()\n",
      "    (2): MaxPool2d(kernel_size=2, stride=2, padding=0, dilation=1, ceil_mode=False)\n",
      "    (3): Conv2d(16, 32, kernel_size=(3, 3), stride=(1, 1))\n",
      "    (4): ReLU()\n",
      "    (5): MaxPool2d(kernel_size=2, stride=2, padding=0, dilation=1, ceil_mode=False)\n",
      "    (6): Flatten(start_dim=1, end_dim=-1)\n",
      "    (7): Linear(in_features=800, out_features=10, bias=True)\n",
      "    (8): LogSoftmax(dim=1)\n",
      "  )\n",
      ")\n"
     ]
    }
   ],
   "source": [
    "# Model\n",
    "class Net(nn.Module):\n",
    "    def __init__(self):\n",
    "        super(Net, self).__init__()\n",
    "        self.main = nn.Sequential(\n",
    "            nn.Conv2d(1, 16, kernel_size=(3, 3), stride=(1, 1)),\n",
    "            nn.ReLU(),\n",
    "            nn.MaxPool2d(kernel_size=2, stride=2, padding=0, dilation=1, ceil_mode=False),\n",
    "            nn.Conv2d(16, 32, kernel_size=(3, 3), stride=(1, 1)),\n",
    "            nn.ReLU(),\n",
    "            nn.MaxPool2d(kernel_size=2, stride=2, padding=0, dilation=1, ceil_mode=False),\n",
    "            nn.Flatten(start_dim=1, end_dim=-1),\n",
    "            nn.Linear(in_features=800, out_features=10, bias=True),\n",
    "            nn.LogSoftmax(dim=1)\n",
    "        )\n",
    "\n",
    "    def forward(self, input):\n",
    "        return self.main(input)\n",
    "\n",
    "\n",
    "net = Net().to(device)\n",
    "print(net)"
   ],
   "metadata": {
    "collapsed": false,
    "ExecuteTime": {
     "end_time": "2024-04-26T15:56:46.379130Z",
     "start_time": "2024-04-26T15:56:46.363689Z"
    }
   },
   "id": "41fa52088829e633",
   "execution_count": 22
  },
  {
   "cell_type": "code",
   "outputs": [
    {
     "name": "stdout",
     "output_type": "stream",
     "text": [
      "Training on 60000 images\n",
      "[1/4, 100/938] loss: 0.003\n",
      "[1/4, 200/938] loss: 0.007\n",
      "[1/4, 300/938] loss: 0.010\n",
      "[1/4, 400/938] loss: 0.013\n",
      "[1/4, 500/938] loss: 0.016\n",
      "[1/4, 600/938] loss: 0.019\n",
      "[1/4, 700/938] loss: 0.023\n",
      "[1/4, 800/938] loss: 0.027\n",
      "[1/4, 900/938] loss: 0.030\n",
      "[1/4, 938/938] loss: 0.031\n",
      "[2/4, 100/938] loss: 0.003\n",
      "[2/4, 200/938] loss: 0.006\n",
      "[2/4, 300/938] loss: 0.009\n",
      "[2/4, 400/938] loss: 0.012\n",
      "[2/4, 500/938] loss: 0.015\n",
      "[2/4, 600/938] loss: 0.018\n",
      "[2/4, 700/938] loss: 0.021\n",
      "[2/4, 800/938] loss: 0.025\n",
      "[2/4, 900/938] loss: 0.028\n",
      "[2/4, 938/938] loss: 0.029\n",
      "[3/4, 100/938] loss: 0.002\n",
      "[3/4, 200/938] loss: 0.005\n",
      "[3/4, 300/938] loss: 0.008\n",
      "[3/4, 400/938] loss: 0.011\n",
      "[3/4, 500/938] loss: 0.014\n",
      "[3/4, 600/938] loss: 0.017\n",
      "[3/4, 700/938] loss: 0.020\n",
      "[3/4, 800/938] loss: 0.023\n",
      "[3/4, 900/938] loss: 0.025\n",
      "[3/4, 938/938] loss: 0.026\n",
      "[4/4, 100/938] loss: 0.003\n",
      "[4/4, 200/938] loss: 0.006\n",
      "[4/4, 300/938] loss: 0.008\n",
      "[4/4, 400/938] loss: 0.011\n",
      "[4/4, 500/938] loss: 0.013\n",
      "[4/4, 600/938] loss: 0.016\n",
      "[4/4, 700/938] loss: 0.018\n",
      "[4/4, 800/938] loss: 0.021\n",
      "[4/4, 900/938] loss: 0.023\n",
      "[4/4, 938/938] loss: 0.025\n",
      "Training Finished.\n",
      "Accuracy of the network on the 10000 test images: 98 %\n",
      "Accuracy of 0: 0.993421\n",
      "Accuracy of 1: 0.983784\n",
      "Accuracy of 2: 0.988372\n",
      "Accuracy of 3: 0.961538\n",
      "Accuracy of 4: 0.994350\n",
      "Accuracy of 5: 0.984127\n",
      "Accuracy of 6: 0.968750\n",
      "Accuracy of 7: 0.975610\n",
      "Accuracy of 8: 0.979021\n",
      "Accuracy of 9: 0.976048\n"
     ]
    }
   ],
   "source": [
    "# Parameters\n",
    "epochs = 4\n",
    "lr = 0.002\n",
    "loss = nn.NLLLoss()\n",
    "optimizer = optim.SGD(net.parameters(), lr=0.002, momentum=0.9)\n",
    "\n",
    "# Train\n",
    "print('Training on %d images' % trainSet.data.shape[0])\n",
    "training_loop(net, loss, optimizer, trainLoader, epochs)\n",
    "print('Training Finished.\\n')\n",
    "\n",
    "# Test\n",
    "correct, total, class_correct, class_total = evaluate_model(net, testLoader)\n",
    "print('Accuracy of the network on the %d test images: %d %%' % (testSet.data.shape[0], (100*correct / total)))\n",
    "for i in range(10):\n",
    "    print('Accuracy of %d: %3f' % (i, (class_correct[i]/class_total[i])))"
   ],
   "metadata": {
    "collapsed": false,
    "ExecuteTime": {
     "end_time": "2024-04-26T16:07:50.751560Z",
     "start_time": "2024-04-26T16:07:16.717590Z"
    }
   },
   "id": "19c8a91043d35a",
   "execution_count": 29
  }
 ],
 "metadata": {
  "kernelspec": {
   "display_name": "Python 3",
   "language": "python",
   "name": "python3"
  },
  "language_info": {
   "codemirror_mode": {
    "name": "ipython",
    "version": 2
   },
   "file_extension": ".py",
   "mimetype": "text/x-python",
   "name": "python",
   "nbconvert_exporter": "python",
   "pygments_lexer": "ipython2",
   "version": "2.7.6"
  }
 },
 "nbformat": 4,
 "nbformat_minor": 5
}
